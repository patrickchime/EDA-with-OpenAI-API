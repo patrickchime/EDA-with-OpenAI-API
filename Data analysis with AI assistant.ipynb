{
 "cells": [
  {
   "cell_type": "markdown",
   "id": "1043c2e9",
   "metadata": {},
   "source": [
    "# Data Analysis with GPT and LangChain"
   ]
  },
  {
   "cell_type": "markdown",
   "id": "a69d72e3",
   "metadata": {},
   "source": [
    "# Introduction\n",
    "\n",
    "AI is fast becoming an integral part of businesses, governmental workflows and as well as human life. There are many ways in which AI can be helpful in data analysis workflow, By leveraging AI, data analysts can streamline their workflows, gain deeper insights, and make more informed decisions based on the data at hand.\n",
    "\n",
    "To begin leveraging the power of OpenAI API for this work, first, we will provide a description of the features of the dataset that we want to analyze. This description will be provided to the GPT model so that it becomes aware of our dataset.\n",
    "\n",
    "**`Example dataset description: `**\n",
    "\n",
    "\n",
    "You have a dataset about unemployment rate by gender in Africa. It is available as pandas dataframe named `unemployment_rate`\n",
    "\n",
    "The dataset contains the following columns.\n",
    "\n",
    "- `Entity` (object): The field represents the country or region.                                                               \n",
    "- `Code` (object) : A three letter column representing the country where the uemployment rate data was collected.                                                                   \n",
    "- `Year` (integer): The yead when the uenemployment rate data was collected.                                                                     \n",
    "- `Unemployment, female (% of female labor force) (modeled ILO estimate)` (float): The percentage of the female labor force that is unemployed.   \n",
    "- `Unemployment, male (% of male labor force) (modeled ILO estimate)` (float): The percentage of the male labor force that is unemployed.       \n",
    "- `Population (historical estimates)` (integer): This column represents the population figures for the respective entity for the given year\n",
    "- `Continent` (object): This field indicates the continent where the `Entity (country or region)` is located.\n",
    "\"\"\"\n",
    "\n",
    "\n",
    "# Aim\n",
    "\n",
    "Our aim is to develop a simple data analysis bot using Langchain and GPT that can suggest some data analysis questions when prompted with the description of a dataset. The bot will also be a able to a hold a conversation about the dataset."
   ]
  },
  {
   "cell_type": "code",
   "execution_count": 1,
   "id": "4f17d5b2",
   "metadata": {},
   "outputs": [],
   "source": [
    "# Import packages\n",
    "\n",
    "import warnings\n",
    "import os\n",
    "from IPython.display import display, Markdown\n",
    "\n",
    "import openai\n",
    "from langchain.chat_models import ChatOpenAI\n",
    "from langchain.schema import AIMessage, HumanMessage, SystemMessage\n",
    "\n",
    "# Ignore possible warnings\n",
    "warnings.filterwarnings(\"ignore\")"
   ]
  },
  {
   "cell_type": "code",
   "execution_count": 3,
   "id": "5099e406",
   "metadata": {},
   "outputs": [],
   "source": [
    "# Add OpenAI API key\n",
    "openai.api_key = os.environ.get(\"OPENAI_API_KEY\")"
   ]
  },
  {
   "cell_type": "markdown",
   "id": "d9603f77",
   "metadata": {},
   "source": [
    "# Dataset description\n",
    "\n",
    "Here, we will provide description for the dataset we are in interested in. This is done by describing the features of the said dataset."
   ]
  },
  {
   "cell_type": "code",
   "execution_count": 4,
   "id": "88c7ce2e",
   "metadata": {},
   "outputs": [],
   "source": [
    "# Dataset description\n",
    "dataset_description = \"\"\"\n",
    "You have a dataset about unemployment rate by gender in Africa. It is available as pandas dataframe named `unemployment_rate`\n",
    "\n",
    "The dataset contains the following columns.\n",
    "\n",
    "- `Entity` (object): The field represents the country or region.                                                               \n",
    "- `Code` (object) : A three letter column representing the country where the uemployment rate data was collected.                                                                   \n",
    "- `Year` (integer): The yead when the uenemployment rate data was collected.                                                                     \n",
    "- `Unemployment, female (% of female labor force) (modeled ILO estimate)` (float): The percentage of the female labor force that is unemployed.   \n",
    "- `Unemployment, male (% of male labor force) (modeled ILO estimate)` (float): The percentage of the male labor force that is unemployed.       \n",
    "- `Population (historical estimates)` (integer): This column represents the population figures for the respective entity for the given year\n",
    "- `Continent` (object): This field indicates the continent where the `Entity (country or region)` is located.\n",
    "\"\"\"\n",
    "\n",
    "# Provide user message\n",
    "user_msg = \"Suggest some data analysis questions that can be answered with this dataset\"\n",
    "\n",
    "# Assign a role to the model and add to the human message\n",
    "messages = [\n",
    "    SystemMessage(content = \"You are a data analysis expert\"),\n",
    "    HumanMessage(content = f\"{dataset_description}\\n\\n{user_msg}\")\n",
    "]\n"
   ]
  },
  {
   "cell_type": "code",
   "execution_count": 5,
   "id": "47010a89",
   "metadata": {},
   "outputs": [],
   "source": [
    "# Create a ChatOpenAI object.\n",
    "chat = ChatOpenAI(temperature = 0)"
   ]
  },
  {
   "cell_type": "code",
   "execution_count": 7,
   "id": "e724d17d",
   "metadata": {},
   "outputs": [
    {
     "name": "stdout",
     "output_type": "stream",
     "text": [
      "1. What is the overall unemployment rate in Africa for each year?\n",
      "2. How does the unemployment rate differ between males and females in Africa for each year?\n",
      "3. Which African countries have the highest and lowest unemployment rates for females and males?\n",
      "4. Is there a correlation between the population size and the unemployment rate in Africa?\n",
      "5. How has the unemployment rate changed over time in Africa for both genders?\n",
      "6. Are there any significant differences in the unemployment rates between different continents in Africa?\n",
      "7. Is there a relationship between the unemployment rate and the level of economic development in African countries?\n",
      "8. How does the unemployment rate in Africa compare to the global average?\n",
      "9. Are there any specific years or periods where the unemployment rate significantly increased or decreased in Africa?\n",
      "10. Is there a difference in the unemployment rate between urban and rural areas in African countries?\n"
     ]
    }
   ],
   "source": [
    "# Display model response\n",
    "response = chat(messages)\n",
    "print(response.content)"
   ]
  },
  {
   "cell_type": "markdown",
   "id": "3d65c01b",
   "metadata": {},
   "source": [
    "## Hold a conversation with GPT\n",
    "\n",
    "Here, we will attempt to ask follow up questions based on the data analysis questions the model had suggested. The AI assistant should be able to provide precise responses and generate codes when required."
   ]
  },
  {
   "cell_type": "code",
   "execution_count": 8,
   "id": "897a9e34",
   "metadata": {},
   "outputs": [
    {
     "name": "stdout",
     "output_type": "stream",
     "text": [
      "[SystemMessage(content='You are a data analysis expert', additional_kwargs={}), HumanMessage(content='\\nYou have a dataset about unemployment rate by gender in Africa. It is available as pandas dataframe named `unemployment_rate`\\n\\nThe dataset contains the following columns.\\n\\n- `Entity` (object): The field represents the country or region.                                                               \\n- `Code` (object) : A three letter column representing the country where the uemployment rate data was collected.                                                                   \\n- `Year` (integer): The yead when the uenemployment rate data was collected.                                                                     \\n- `Unemployment, female (% of female labor force) (modeled ILO estimate)` (float): The percentage of the female labor force that is unemployed.   \\n- `Unemployment, male (% of male labor force) (modeled ILO estimate)` (float): The percentage of the male labor force that is unemployed.       \\n- `Population (historical estimates)` (integer): This column represents the population figures for the respective entity for the given year\\n- `Continent` (object): This field indicates the continent where the `Entity (country or region)` is located.\\n\\n\\nSuggest some data analysis questions that can be answered with this dataset', additional_kwargs={}, example=False), AIMessage(content='1. What is the overall unemployment rate in Africa for each year?\\n2. How does the unemployment rate differ between males and females in Africa for each year?\\n3. Which African countries have the highest and lowest unemployment rates for females and males?\\n4. Is there a correlation between the population size and the unemployment rate in Africa?\\n5. How has the unemployment rate changed over time in Africa for both genders?\\n6. Are there any significant differences in the unemployment rates between different continents in Africa?\\n7. Is there a relationship between the unemployment rate and the level of economic development in African countries?\\n8. How does the unemployment rate in Africa compare to the global average?\\n9. Are there any specific years or periods where the unemployment rate significantly increased or decreased in Africa?\\n10. Is there a difference in the unemployment rate between urban and rural areas in African countries?', additional_kwargs={}, example=False)]\n"
     ]
    }
   ],
   "source": [
    "# Append models's response to messages: This ensures the model has some memory of past conversation\n",
    "messages.append(response)\n",
    "\n",
    "# Display messages\n",
    "print(messages)"
   ]
  },
  {
   "cell_type": "code",
   "execution_count": 12,
   "id": "f1269435",
   "metadata": {},
   "outputs": [
    {
     "data": {
      "text/markdown": [
       "Certainly! Here's an example code in Python to compare the unemployment rate for females and males in Africa using the given dataset:\n",
       "\n",
       "```python\n",
       "import pandas as pd\n",
       "\n",
       "# Load the dataset\n",
       "unemployment_rate = pd.read_csv('unemployment_rate.csv')\n",
       "\n",
       "# Filter the data for Africa\n",
       "africa_data = unemployment_rate[unemployment_rate['Continent'] == 'Africa']\n",
       "\n",
       "# Calculate the average unemployment rate for females and males in Africa\n",
       "avg_female_unemployment = africa_data['Unemployment, female (% of female labor force) (modeled ILO estimate)'].mean()\n",
       "avg_male_unemployment = africa_data['Unemployment, male (% of male labor force) (modeled ILO estimate)'].mean()\n",
       "\n",
       "# Print the results\n",
       "print(\"Average Unemployment Rate for Females in Africa: {:.2f}%\".format(avg_female_unemployment))\n",
       "print(\"Average Unemployment Rate for Males in Africa: {:.2f}%\".format(avg_male_unemployment))\n",
       "```\n",
       "\n",
       "Make sure to replace `'unemployment_rate.csv'` with the actual file path or name of your dataset. This code will calculate the average unemployment rate for females and males in Africa and print the results."
      ],
      "text/plain": [
       "<IPython.core.display.Markdown object>"
      ]
     },
     "metadata": {},
     "output_type": "display_data"
    }
   ],
   "source": [
    "prompt = HumanMessage(content = \"\"\"Write some code python to find out how unemployment rate for females compare\n",
    "                      to the unemployment rate for males in Africa\"\"\")\n",
    "\n",
    "# Append prompt to messages\n",
    "messages.append(prompt)\n",
    "\n",
    "# Model response\n",
    "response = chat(messages)\n",
    "\n",
    "# Display response\n",
    "display(Markdown(response.content))"
   ]
  },
  {
   "cell_type": "code",
   "execution_count": 14,
   "id": "42c4117f",
   "metadata": {},
   "outputs": [
    {
     "data": {
      "text/markdown": [
       "Sure! Here's an example of Python code using the `matplotlib` library to draw a bar plot comparing the unemployment rate for females and males in Africa:\n",
       "\n",
       "```python\n",
       "import pandas as pd\n",
       "import matplotlib.pyplot as plt\n",
       "\n",
       "# Assuming you have already loaded the dataset into a pandas DataFrame named 'unemployment_rate'\n",
       "\n",
       "# Filter the data for Africa\n",
       "africa_data = unemployment_rate[unemployment_rate['Continent'] == 'Africa']\n",
       "\n",
       "# Group the data by year and calculate the average unemployment rate for females and males\n",
       "grouped_data = africa_data.groupby('Year').mean()[['Unemployment, female (% of female labor force) (modeled ILO estimate)',\n",
       "                                                   'Unemployment, male (% of male labor force) (modeled ILO estimate)']]\n",
       "\n",
       "# Reset the index to make 'Year' a column\n",
       "grouped_data = grouped_data.reset_index()\n",
       "\n",
       "# Plotting the bar plot\n",
       "plt.figure(figsize=(10, 6))\n",
       "plt.bar(grouped_data['Year'], grouped_data['Unemployment, female (% of female labor force) (modeled ILO estimate)'],\n",
       "        width=0.4, label='Female Unemployment Rate')\n",
       "plt.bar(grouped_data['Year'], grouped_data['Unemployment, male (% of male labor force) (modeled ILO estimate)'],\n",
       "        width=0.4, label='Male Unemployment Rate')\n",
       "plt.xlabel('Year')\n",
       "plt.ylabel('Unemployment Rate (%)')\n",
       "plt.title('Comparison of Unemployment Rate for Females and Males in Africa')\n",
       "plt.legend()\n",
       "plt.xticks(rotation=45)\n",
       "plt.show()\n",
       "```\n",
       "\n",
       "This code will create a bar plot showing the unemployment rate for females and males in Africa for each year. The x-axis represents the years, and the y-axis represents the unemployment rate in percentage. The blue bars represent the female unemployment rate, and the orange bars represent the male unemployment rate."
      ],
      "text/plain": [
       "<IPython.core.display.Markdown object>"
      ]
     },
     "metadata": {},
     "output_type": "display_data"
    }
   ],
   "source": [
    "# Ask GPT for code for a bar plot, as detailed in the instructions\n",
    "prompt = HumanMessage(content=\"\"\"Write some Python code to draw a bar plot of how unemployment rate for females compare\n",
    "to the unemployment rate for males in Africa\"\"\")\n",
    "\n",
    "# Append prompt to messages\n",
    "messages.append(prompt)\n",
    "\n",
    "# Model response\n",
    "response = chat(messages)\n",
    "\n",
    "# Display response\n",
    "display(Markdown(response.content))"
   ]
  },
  {
   "cell_type": "markdown",
   "id": "8da1faf9",
   "metadata": {},
   "source": [
    "# Conclusion\n",
    "***`Doing more analysis with GPT assistance is simply a case of continuing the conversation by appending new HumanMessage prompts to the message list, and calling the chat() function.`***"
   ]
  },
  {
   "cell_type": "code",
   "execution_count": null,
   "id": "f4a13fbf",
   "metadata": {},
   "outputs": [],
   "source": []
  }
 ],
 "metadata": {
  "kernelspec": {
   "display_name": "Python 3 (ipykernel)",
   "language": "python",
   "name": "python3"
  },
  "language_info": {
   "codemirror_mode": {
    "name": "ipython",
    "version": 3
   },
   "file_extension": ".py",
   "mimetype": "text/x-python",
   "name": "python",
   "nbconvert_exporter": "python",
   "pygments_lexer": "ipython3",
   "version": "3.11.5"
  }
 },
 "nbformat": 4,
 "nbformat_minor": 5
}
